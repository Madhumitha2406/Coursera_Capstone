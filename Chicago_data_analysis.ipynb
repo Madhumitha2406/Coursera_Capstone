{
 "cells": [
  {
   "cell_type": "code",
   "execution_count": 1,
   "metadata": {},
   "outputs": [
    {
     "name": "stdout",
     "output_type": "stream",
     "text": [
      "Collecting package metadata (current_repodata.json): ...working... done\n",
      "Solving environment: ...working... done\n",
      "\n",
      "## Package Plan ##\n",
      "\n",
      "  environment location: C:\\Users\\MADHUMITHA\\Anaconda3\n",
      "\n",
      "  added / updated specs:\n",
      "    - geocoder\n",
      "\n",
      "\n",
      "The following packages will be downloaded:\n",
      "\n",
      "    package                    |            build\n",
      "    ---------------------------|-----------------\n",
      "    geocoder-1.38.1            |             py_1          53 KB  conda-forge\n",
      "    ratelim-0.1.6              |             py_2           6 KB  conda-forge\n",
      "    ------------------------------------------------------------\n",
      "                                           Total:          59 KB\n",
      "\n",
      "The following NEW packages will be INSTALLED:\n",
      "\n",
      "  geocoder           conda-forge/noarch::geocoder-1.38.1-py_1\n",
      "  ratelim            conda-forge/noarch::ratelim-0.1.6-py_2\n",
      "\n",
      "\n",
      "\n",
      "Downloading and Extracting Packages\n",
      "\n",
      "ratelim-0.1.6        | 6 KB      |            |   0% \n",
      "ratelim-0.1.6        | 6 KB      | ########## | 100% \n",
      "\n",
      "geocoder-1.38.1      | 53 KB     |            |   0% \n",
      "geocoder-1.38.1      | 53 KB     | ########## | 100% \n",
      "Preparing transaction: ...working... done\n",
      "Verifying transaction: ...working... done\n",
      "Executing transaction: ...working... done\n",
      "Collecting package metadata (current_repodata.json): ...working... done\n",
      "Solving environment: ...working... done\n",
      "\n",
      "# All requested packages already installed.\n",
      "\n",
      "Collecting package metadata (current_repodata.json): ...working... done\n",
      "Solving environment: ...working... done\n",
      "\n",
      "# All requested packages already installed.\n",
      "\n",
      "Folium installed\n",
      "Libraries imported.\n"
     ]
    }
   ],
   "source": [
    "import requests # library to handle requests\n",
    "import pandas as pd # library for data analsysis\n",
    "import numpy as np # library to handle data in a vectorized manner\n",
    "import random # library for random number generation\n",
    "from bs4 import BeautifulSoup # library for web scrapping  \n",
    "\n",
    "!conda install -c conda-forge geocoder --yes\n",
    "import geocoder\n",
    "\n",
    "!conda install -c conda-forge geopy --yes \n",
    "from geopy.geocoders import Nominatim # module to convert an address into latitude and longitude values\n",
    "\n",
    "# libraries for displaying images\n",
    "from IPython.display import Image \n",
    "from IPython.core.display import HTML \n",
    "    \n",
    "# tranforming json file into a pandas dataframe library\n",
    "from pandas.io.json import json_normalize\n",
    "\n",
    "!conda install -c conda-forge folium=0.5.0 --yes\n",
    "import folium # plotting library\n",
    "\n",
    "print('Folium installed')\n",
    "print('Libraries imported.')"
   ]
  },
  {
   "cell_type": "code",
   "execution_count": 2,
   "metadata": {},
   "outputs": [
    {
     "name": "stdout",
     "output_type": "stream",
     "text": [
      "Your credentails:\n",
      "CLIENT_ID: HR0R1IEP0WDXFYM53HU2GUJLU0GNIEMP4EY5GBSYEN3QGNUW\n",
      "CLIENT_SECRET:GUVXPO0FGF5DNXWWU5GB50GXLFDRAAH5TOZCER1YOVSN0N0F\n"
     ]
    }
   ],
   "source": [
    "CLIENT_ID = 'HR0R1IEP0WDXFYM53HU2GUJLU0GNIEMP4EY5GBSYEN3QGNUW' # your Foursquare ID\n",
    "CLIENT_SECRET = 'GUVXPO0FGF5DNXWWU5GB50GXLFDRAAH5TOZCER1YOVSN0N0F' # your Foursquare Secret\n",
    "\n",
    "VERSION = '20180604'\n",
    "LIMIT = 30\n",
    "\n",
    "print('Your credentails:')\n",
    "print('CLIENT_ID: ' + CLIENT_ID)\n",
    "print('CLIENT_SECRET:' + CLIENT_SECRET)"
   ]
  },
  {
   "cell_type": "code",
   "execution_count": 11,
   "metadata": {},
   "outputs": [
    {
     "data": {
      "text/plain": [
       "'C:\\\\Users\\\\MADHUMITHA'"
      ]
     },
     "execution_count": 11,
     "metadata": {},
     "output_type": "execute_result"
    }
   ],
   "source": [
    "pwd"
   ]
  },
  {
   "cell_type": "code",
   "execution_count": 13,
   "metadata": {},
   "outputs": [],
   "source": [
    "df = pd.read_csv('Crimedata.csv')"
   ]
  },
  {
   "cell_type": "code",
   "execution_count": 14,
   "metadata": {},
   "outputs": [
    {
     "data": {
      "text/html": [
       "<div>\n",
       "<style scoped>\n",
       "    .dataframe tbody tr th:only-of-type {\n",
       "        vertical-align: middle;\n",
       "    }\n",
       "\n",
       "    .dataframe tbody tr th {\n",
       "        vertical-align: top;\n",
       "    }\n",
       "\n",
       "    .dataframe thead th {\n",
       "        text-align: right;\n",
       "    }\n",
       "</style>\n",
       "<table border=\"1\" class=\"dataframe\">\n",
       "  <thead>\n",
       "    <tr style=\"text-align: right;\">\n",
       "      <th></th>\n",
       "      <th>ID</th>\n",
       "      <th>Case Number</th>\n",
       "      <th>Date</th>\n",
       "      <th>Block</th>\n",
       "      <th>IUCR</th>\n",
       "      <th>Primary Type</th>\n",
       "      <th>Description</th>\n",
       "      <th>Location Description</th>\n",
       "      <th>Arrest</th>\n",
       "      <th>Domestic</th>\n",
       "      <th>...</th>\n",
       "      <th>Ward</th>\n",
       "      <th>Community Area</th>\n",
       "      <th>FBI Code</th>\n",
       "      <th>X Coordinate</th>\n",
       "      <th>Y Coordinate</th>\n",
       "      <th>Year</th>\n",
       "      <th>Updated On</th>\n",
       "      <th>Latitude</th>\n",
       "      <th>Longitude</th>\n",
       "      <th>Location</th>\n",
       "    </tr>\n",
       "  </thead>\n",
       "  <tbody>\n",
       "    <tr>\n",
       "      <td>0</td>\n",
       "      <td>10000092</td>\n",
       "      <td>HY189866</td>\n",
       "      <td>03/18/2015 07:44:00 PM</td>\n",
       "      <td>047XX W OHIO ST</td>\n",
       "      <td>041A</td>\n",
       "      <td>BATTERY</td>\n",
       "      <td>AGGRAVATED: HANDGUN</td>\n",
       "      <td>STREET</td>\n",
       "      <td>False</td>\n",
       "      <td>False</td>\n",
       "      <td>...</td>\n",
       "      <td>28.0</td>\n",
       "      <td>25.0</td>\n",
       "      <td>04B</td>\n",
       "      <td>1144606.0</td>\n",
       "      <td>1903566.0</td>\n",
       "      <td>2015</td>\n",
       "      <td>02/10/2018 03:50:01 PM</td>\n",
       "      <td>41.891399</td>\n",
       "      <td>-87.744385</td>\n",
       "      <td>(41.891398861, -87.744384567)</td>\n",
       "    </tr>\n",
       "    <tr>\n",
       "      <td>1</td>\n",
       "      <td>10000094</td>\n",
       "      <td>HY190059</td>\n",
       "      <td>03/18/2015 11:00:00 PM</td>\n",
       "      <td>066XX S MARSHFIELD AVE</td>\n",
       "      <td>4625</td>\n",
       "      <td>OTHER OFFENSE</td>\n",
       "      <td>PAROLE VIOLATION</td>\n",
       "      <td>STREET</td>\n",
       "      <td>True</td>\n",
       "      <td>False</td>\n",
       "      <td>...</td>\n",
       "      <td>15.0</td>\n",
       "      <td>67.0</td>\n",
       "      <td>26</td>\n",
       "      <td>1166468.0</td>\n",
       "      <td>1860715.0</td>\n",
       "      <td>2015</td>\n",
       "      <td>02/10/2018 03:50:01 PM</td>\n",
       "      <td>41.773372</td>\n",
       "      <td>-87.665319</td>\n",
       "      <td>(41.773371528, -87.665319468)</td>\n",
       "    </tr>\n",
       "    <tr>\n",
       "      <td>2</td>\n",
       "      <td>10000095</td>\n",
       "      <td>HY190052</td>\n",
       "      <td>03/18/2015 10:45:00 PM</td>\n",
       "      <td>044XX S LAKE PARK AVE</td>\n",
       "      <td>0486</td>\n",
       "      <td>BATTERY</td>\n",
       "      <td>DOMESTIC BATTERY SIMPLE</td>\n",
       "      <td>APARTMENT</td>\n",
       "      <td>False</td>\n",
       "      <td>True</td>\n",
       "      <td>...</td>\n",
       "      <td>4.0</td>\n",
       "      <td>39.0</td>\n",
       "      <td>08B</td>\n",
       "      <td>1185075.0</td>\n",
       "      <td>1875622.0</td>\n",
       "      <td>2015</td>\n",
       "      <td>02/10/2018 03:50:01 PM</td>\n",
       "      <td>41.813861</td>\n",
       "      <td>-87.596643</td>\n",
       "      <td>(41.81386068, -87.596642837)</td>\n",
       "    </tr>\n",
       "    <tr>\n",
       "      <td>3</td>\n",
       "      <td>10000096</td>\n",
       "      <td>HY190054</td>\n",
       "      <td>03/18/2015 10:30:00 PM</td>\n",
       "      <td>051XX S MICHIGAN AVE</td>\n",
       "      <td>0460</td>\n",
       "      <td>BATTERY</td>\n",
       "      <td>SIMPLE</td>\n",
       "      <td>APARTMENT</td>\n",
       "      <td>False</td>\n",
       "      <td>False</td>\n",
       "      <td>...</td>\n",
       "      <td>3.0</td>\n",
       "      <td>40.0</td>\n",
       "      <td>08B</td>\n",
       "      <td>1178033.0</td>\n",
       "      <td>1870804.0</td>\n",
       "      <td>2015</td>\n",
       "      <td>02/10/2018 03:50:01 PM</td>\n",
       "      <td>41.800802</td>\n",
       "      <td>-87.622619</td>\n",
       "      <td>(41.800802415, -87.622619343)</td>\n",
       "    </tr>\n",
       "    <tr>\n",
       "      <td>4</td>\n",
       "      <td>10000097</td>\n",
       "      <td>HY189976</td>\n",
       "      <td>03/18/2015 09:00:00 PM</td>\n",
       "      <td>047XX W ADAMS ST</td>\n",
       "      <td>031A</td>\n",
       "      <td>ROBBERY</td>\n",
       "      <td>ARMED: HANDGUN</td>\n",
       "      <td>SIDEWALK</td>\n",
       "      <td>False</td>\n",
       "      <td>False</td>\n",
       "      <td>...</td>\n",
       "      <td>28.0</td>\n",
       "      <td>25.0</td>\n",
       "      <td>03</td>\n",
       "      <td>1144920.0</td>\n",
       "      <td>1898709.0</td>\n",
       "      <td>2015</td>\n",
       "      <td>02/10/2018 03:50:01 PM</td>\n",
       "      <td>41.878065</td>\n",
       "      <td>-87.743354</td>\n",
       "      <td>(41.878064761, -87.743354013)</td>\n",
       "    </tr>\n",
       "  </tbody>\n",
       "</table>\n",
       "<p>5 rows × 22 columns</p>\n",
       "</div>"
      ],
      "text/plain": [
       "         ID Case Number                    Date                   Block  IUCR  \\\n",
       "0  10000092    HY189866  03/18/2015 07:44:00 PM         047XX W OHIO ST  041A   \n",
       "1  10000094    HY190059  03/18/2015 11:00:00 PM  066XX S MARSHFIELD AVE  4625   \n",
       "2  10000095    HY190052  03/18/2015 10:45:00 PM   044XX S LAKE PARK AVE  0486   \n",
       "3  10000096    HY190054  03/18/2015 10:30:00 PM    051XX S MICHIGAN AVE  0460   \n",
       "4  10000097    HY189976  03/18/2015 09:00:00 PM        047XX W ADAMS ST  031A   \n",
       "\n",
       "    Primary Type              Description Location Description  Arrest  \\\n",
       "0        BATTERY      AGGRAVATED: HANDGUN               STREET   False   \n",
       "1  OTHER OFFENSE         PAROLE VIOLATION               STREET    True   \n",
       "2        BATTERY  DOMESTIC BATTERY SIMPLE            APARTMENT   False   \n",
       "3        BATTERY                   SIMPLE            APARTMENT   False   \n",
       "4        ROBBERY           ARMED: HANDGUN             SIDEWALK   False   \n",
       "\n",
       "   Domestic  ...  Ward  Community Area  FBI Code  X Coordinate Y Coordinate  \\\n",
       "0     False  ...  28.0            25.0       04B     1144606.0    1903566.0   \n",
       "1     False  ...  15.0            67.0        26     1166468.0    1860715.0   \n",
       "2      True  ...   4.0            39.0       08B     1185075.0    1875622.0   \n",
       "3     False  ...   3.0            40.0       08B     1178033.0    1870804.0   \n",
       "4     False  ...  28.0            25.0        03     1144920.0    1898709.0   \n",
       "\n",
       "   Year              Updated On   Latitude  Longitude  \\\n",
       "0  2015  02/10/2018 03:50:01 PM  41.891399 -87.744385   \n",
       "1  2015  02/10/2018 03:50:01 PM  41.773372 -87.665319   \n",
       "2  2015  02/10/2018 03:50:01 PM  41.813861 -87.596643   \n",
       "3  2015  02/10/2018 03:50:01 PM  41.800802 -87.622619   \n",
       "4  2015  02/10/2018 03:50:01 PM  41.878065 -87.743354   \n",
       "\n",
       "                        Location  \n",
       "0  (41.891398861, -87.744384567)  \n",
       "1  (41.773371528, -87.665319468)  \n",
       "2   (41.81386068, -87.596642837)  \n",
       "3  (41.800802415, -87.622619343)  \n",
       "4  (41.878064761, -87.743354013)  \n",
       "\n",
       "[5 rows x 22 columns]"
      ]
     },
     "execution_count": 14,
     "metadata": {},
     "output_type": "execute_result"
    }
   ],
   "source": [
    "df.head()"
   ]
  },
  {
   "cell_type": "code",
   "execution_count": 17,
   "metadata": {},
   "outputs": [],
   "source": [
    "# Taking only the most recent year (2016) and dropping the rest\n",
    "df.drop(df.index[df['Year'] != 2015], inplace = True)\n",
    "\n",
    "# Reset the index and dropping the previous index\n",
    "df = df.reset_index(drop=True)"
   ]
  },
  {
   "cell_type": "code",
   "execution_count": 18,
   "metadata": {},
   "outputs": [
    {
     "data": {
      "text/plain": [
       "(263770, 22)"
      ]
     },
     "execution_count": 18,
     "metadata": {},
     "output_type": "execute_result"
    }
   ],
   "source": [
    "# Shape of the data frame\n",
    "df.shape"
   ]
  },
  {
   "cell_type": "code",
   "execution_count": 19,
   "metadata": {},
   "outputs": [
    {
     "name": "stdout",
     "output_type": "stream",
     "text": [
      "<class 'pandas.core.frame.DataFrame'>\n",
      "RangeIndex: 263770 entries, 0 to 263769\n",
      "Data columns (total 22 columns):\n",
      "ID                      263770 non-null int64\n",
      "Case Number             263770 non-null object\n",
      "Date                    263770 non-null object\n",
      "Block                   263770 non-null object\n",
      "IUCR                    263770 non-null object\n",
      "Primary Type            263770 non-null object\n",
      "Description             263770 non-null object\n",
      "Location Description    263427 non-null object\n",
      "Arrest                  263770 non-null bool\n",
      "Domestic                263770 non-null bool\n",
      "Beat                    263770 non-null int64\n",
      "District                263770 non-null float64\n",
      "Ward                    263768 non-null float64\n",
      "Community Area          263770 non-null float64\n",
      "FBI Code                263770 non-null object\n",
      "X Coordinate            257888 non-null float64\n",
      "Y Coordinate            257888 non-null float64\n",
      "Year                    263770 non-null int64\n",
      "Updated On              263770 non-null object\n",
      "Latitude                257888 non-null float64\n",
      "Longitude               257888 non-null float64\n",
      "Location                257888 non-null object\n",
      "dtypes: bool(2), float64(7), int64(3), object(10)\n",
      "memory usage: 40.8+ MB\n"
     ]
    }
   ],
   "source": [
    "# View the information of the dataset \n",
    "df.info()"
   ]
  },
  {
   "cell_type": "code",
   "execution_count": 22,
   "metadata": {},
   "outputs": [
    {
     "data": {
      "text/plain": [
       "001XX N STATE ST        768\n",
       "0000X W TERMINAL ST     507\n",
       "008XX N MICHIGAN AVE    428\n",
       "076XX S CICERO AVE      401\n",
       "0000X N STATE ST        285\n",
       "                       ... \n",
       "044XX W 64TH ST           1\n",
       "100XX S TORRENCE AVE      1\n",
       "030XX E 97TH ST           1\n",
       "083XX S KNOX AVE          1\n",
       "043XX S OAKLEY AVE        1\n",
       "Name: Block, Length: 27495, dtype: int64"
      ]
     },
     "execution_count": 22,
     "metadata": {},
     "output_type": "execute_result"
    }
   ],
   "source": [
    "df['Block'].value_counts()"
   ]
  },
  {
   "cell_type": "code",
   "execution_count": 31,
   "metadata": {},
   "outputs": [
    {
     "name": "stdout",
     "output_type": "stream",
     "text": [
      "Latitude and Longitude values of (41.773371528, -87.665319468) are 41.773371528, -87.66531946799999.\n"
     ]
    }
   ],
   "source": [
    "Crimedata_Latitude = df.loc[1, 'Latitude']\n",
    "Crimedata_Longitude = df.loc[1, 'Longitude']\n",
    "\n",
    "Crimedata_name = df.loc[1, 'Location']\n",
    "\n",
    "print('Latitude and Longitude values of {} are {}, {}.'.format(Crimedata_name, \n",
    "                                                               Crimedata_Latitude, \n",
    "                                                               Crimedata_Longitude))"
   ]
  },
  {
   "cell_type": "code",
   "execution_count": null,
   "metadata": {},
   "outputs": [],
   "source": []
  }
 ],
 "metadata": {
  "kernelspec": {
   "display_name": "Python 3",
   "language": "python",
   "name": "python3"
  },
  "language_info": {
   "codemirror_mode": {
    "name": "ipython",
    "version": 3
   },
   "file_extension": ".py",
   "mimetype": "text/x-python",
   "name": "python",
   "nbconvert_exporter": "python",
   "pygments_lexer": "ipython3",
   "version": "3.7.4"
  }
 },
 "nbformat": 4,
 "nbformat_minor": 2
}
