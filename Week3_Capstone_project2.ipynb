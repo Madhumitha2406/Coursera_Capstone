{
 "cells": [
  {
   "cell_type": "code",
   "execution_count": 1,
   "metadata": {},
   "outputs": [
    {
     "name": "stdout",
     "output_type": "stream",
     "text": [
      "Collecting package metadata (current_repodata.json): ...working... done\n",
      "Solving environment: ...working... done\n",
      "\n",
      "## Package Plan ##\n",
      "\n",
      "  environment location: C:\\Users\\MADHUMITHA\\Anaconda3\n",
      "\n",
      "  added / updated specs:\n",
      "    - geopy\n",
      "\n",
      "\n",
      "The following packages will be downloaded:\n",
      "\n",
      "    package                    |            build\n",
      "    ---------------------------|-----------------\n",
      "    geographiclib-1.50         |             py_0          34 KB  conda-forge\n",
      "    geopy-1.21.0               |             py_0          58 KB  conda-forge\n",
      "    ------------------------------------------------------------\n",
      "                                           Total:          92 KB\n",
      "\n",
      "The following NEW packages will be INSTALLED:\n",
      "\n",
      "  geographiclib      conda-forge/noarch::geographiclib-1.50-py_0\n",
      "  geopy              conda-forge/noarch::geopy-1.21.0-py_0\n",
      "\n",
      "\n",
      "\n",
      "Downloading and Extracting Packages\n",
      "\n",
      "geopy-1.21.0         | 58 KB     |            |   0% \n",
      "geopy-1.21.0         | 58 KB     | ##7        |  27% \n",
      "geopy-1.21.0         | 58 KB     | ########2  |  82% \n",
      "geopy-1.21.0         | 58 KB     | ########## | 100% \n",
      "\n",
      "geographiclib-1.50   | 34 KB     |            |   0% \n",
      "geographiclib-1.50   | 34 KB     | ####7      |  47% \n",
      "geographiclib-1.50   | 34 KB     | ########## | 100% \n",
      "Preparing transaction: ...working... done\n",
      "Verifying transaction: ...working... done\n",
      "Executing transaction: ...working... done\n"
     ]
    }
   ],
   "source": [
    "import numpy as np\n",
    "import pandas as pd\n",
    "from bs4 import BeautifulSoup\n",
    "import requests\n",
    "!conda install -c conda-forge geopy --yes \n",
    "from geopy.geocoders import Nominatim"
   ]
  },
  {
   "cell_type": "code",
   "execution_count": 3,
   "metadata": {},
   "outputs": [],
   "source": [
    "url='https://en.wikipedia.org/wiki/List_of_postal_codes_of_Canada:_M'\n",
    "content = BeautifulSoup(requests.get(url).content, 'lxml')"
   ]
  },
  {
   "cell_type": "code",
   "execution_count": 4,
   "metadata": {},
   "outputs": [],
   "source": [
    "table = content.find('table')\n",
    "td = table.find_all('td')\n",
    "postcode = []\n",
    "borough = []\n",
    "neighbourhood = []\n",
    "\n",
    "for i in range(0, len(td), 3):\n",
    "    postcode.append(td[i].text.strip())\n",
    "    borough.append(td[i+1].text.strip())\n",
    "    neighbourhood.append(td[i+2].text.strip())\n",
    "        \n",
    "wiki = pd.DataFrame(data=[postcode, borough, neighbourhood]).transpose()\n",
    "wiki.columns = ['Postal Code', 'Borough', 'Neighborhood']\n",
    "\n",
    "wiki['Borough'].replace('Not assigned', np.nan, inplace=True)\n",
    "wiki.dropna(subset=['Borough'], inplace=True)\n",
    "\n",
    "wiki['Neighborhood'].replace('Not assigned', \"Queen's Park\", inplace=True)\n",
    "\n",
    "wiki = wiki.groupby(['Postal Code', 'Borough'])['Neighborhood'].apply(', '.join).reset_index()\n",
    "wiki.columns = ['Postal Code', 'Borough', 'Neighborhood']"
   ]
  },
  {
   "cell_type": "code",
   "execution_count": 6,
   "metadata": {},
   "outputs": [
    {
     "data": {
      "text/plain": [
       "(103, 3)"
      ]
     },
     "execution_count": 6,
     "metadata": {},
     "output_type": "execute_result"
    }
   ],
   "source": [
    "wiki.shape"
   ]
  },
  {
   "cell_type": "code",
   "execution_count": 11,
   "metadata": {},
   "outputs": [
    {
     "data": {
      "text/html": [
       "<div>\n",
       "<style scoped>\n",
       "    .dataframe tbody tr th:only-of-type {\n",
       "        vertical-align: middle;\n",
       "    }\n",
       "\n",
       "    .dataframe tbody tr th {\n",
       "        vertical-align: top;\n",
       "    }\n",
       "\n",
       "    .dataframe thead th {\n",
       "        text-align: right;\n",
       "    }\n",
       "</style>\n",
       "<table border=\"1\" class=\"dataframe\">\n",
       "  <thead>\n",
       "    <tr style=\"text-align: right;\">\n",
       "      <th></th>\n",
       "      <th>Postal Code</th>\n",
       "      <th>Borough</th>\n",
       "      <th>Neighborhood</th>\n",
       "      <th>Latitude</th>\n",
       "      <th>Longitude</th>\n",
       "    </tr>\n",
       "  </thead>\n",
       "  <tbody>\n",
       "    <tr>\n",
       "      <td>0</td>\n",
       "      <td>M1B</td>\n",
       "      <td>Scarborough</td>\n",
       "      <td>Malvern / Rouge</td>\n",
       "      <td>43.806686</td>\n",
       "      <td>-79.194353</td>\n",
       "    </tr>\n",
       "    <tr>\n",
       "      <td>1</td>\n",
       "      <td>M1C</td>\n",
       "      <td>Scarborough</td>\n",
       "      <td>Rouge Hill / Port Union / Highland Creek</td>\n",
       "      <td>43.784535</td>\n",
       "      <td>-79.160497</td>\n",
       "    </tr>\n",
       "    <tr>\n",
       "      <td>2</td>\n",
       "      <td>M1E</td>\n",
       "      <td>Scarborough</td>\n",
       "      <td>Guildwood / Morningside / West Hill</td>\n",
       "      <td>43.763573</td>\n",
       "      <td>-79.188711</td>\n",
       "    </tr>\n",
       "    <tr>\n",
       "      <td>3</td>\n",
       "      <td>M1G</td>\n",
       "      <td>Scarborough</td>\n",
       "      <td>Woburn</td>\n",
       "      <td>43.770992</td>\n",
       "      <td>-79.216917</td>\n",
       "    </tr>\n",
       "    <tr>\n",
       "      <td>4</td>\n",
       "      <td>M1H</td>\n",
       "      <td>Scarborough</td>\n",
       "      <td>Cedarbrae</td>\n",
       "      <td>43.773136</td>\n",
       "      <td>-79.239476</td>\n",
       "    </tr>\n",
       "  </tbody>\n",
       "</table>\n",
       "</div>"
      ],
      "text/plain": [
       "  Postal Code      Borough                              Neighborhood  \\\n",
       "0         M1B  Scarborough                           Malvern / Rouge   \n",
       "1         M1C  Scarborough  Rouge Hill / Port Union / Highland Creek   \n",
       "2         M1E  Scarborough       Guildwood / Morningside / West Hill   \n",
       "3         M1G  Scarborough                                    Woburn   \n",
       "4         M1H  Scarborough                                 Cedarbrae   \n",
       "\n",
       "    Latitude  Longitude  \n",
       "0  43.806686 -79.194353  \n",
       "1  43.784535 -79.160497  \n",
       "2  43.763573 -79.188711  \n",
       "3  43.770992 -79.216917  \n",
       "4  43.773136 -79.239476  "
      ]
     },
     "execution_count": 11,
     "metadata": {},
     "output_type": "execute_result"
    }
   ],
   "source": [
    "url=\"http://cocl.us/Geospatial_data\"\n",
    "geo_df = pd.read_csv(url)\n",
    "geo_df.columns = ['Postal Code', 'Latitude', 'Longitude']\n",
    "toronto_df = pd.merge(wiki, geo_df, on=['Postal Code'], how='inner')\n",
    "toronto_df .head()"
   ]
  },
  {
   "cell_type": "code",
   "execution_count": 12,
   "metadata": {},
   "outputs": [
    {
     "name": "stdout",
     "output_type": "stream",
     "text": [
      "The dataframe has 10 boroughs and 103 neighborhoods.\n"
     ]
    }
   ],
   "source": [
    "print('The dataframe has {} boroughs and {} neighborhoods.'.format(\n",
    "        len(toronto_df ['Borough'].unique()),\n",
    "        toronto_df .shape[0]\n",
    "    )\n",
    ")"
   ]
  },
  {
   "cell_type": "code",
   "execution_count": 13,
   "metadata": {},
   "outputs": [
    {
     "name": "stdout",
     "output_type": "stream",
     "text": [
      "The geograpical coordinate of Toronto, Canada are 43.6534817, -79.3839347.\n"
     ]
    }
   ],
   "source": [
    "address = 'Toronto, Canada'\n",
    "\n",
    "geolocator = Nominatim(user_agent=\"coursera-capstone-project\")\n",
    "location = geolocator.geocode(address)\n",
    "latitude = location.latitude\n",
    "longitude = location.longitude\n",
    "print('The geograpical coordinate of Toronto, Canada are {}, {}.'.format(latitude, longitude))"
   ]
  },
  {
   "cell_type": "code",
   "execution_count": 14,
   "metadata": {},
   "outputs": [
    {
     "data": {
      "text/html": [
       "<div>\n",
       "<style scoped>\n",
       "    .dataframe tbody tr th:only-of-type {\n",
       "        vertical-align: middle;\n",
       "    }\n",
       "\n",
       "    .dataframe tbody tr th {\n",
       "        vertical-align: top;\n",
       "    }\n",
       "\n",
       "    .dataframe thead th {\n",
       "        text-align: right;\n",
       "    }\n",
       "</style>\n",
       "<table border=\"1\" class=\"dataframe\">\n",
       "  <thead>\n",
       "    <tr style=\"text-align: right;\">\n",
       "      <th></th>\n",
       "      <th>Postal Code</th>\n",
       "      <th>Borough</th>\n",
       "      <th>Neighborhood</th>\n",
       "      <th>Latitude</th>\n",
       "      <th>Longitude</th>\n",
       "    </tr>\n",
       "  </thead>\n",
       "  <tbody>\n",
       "    <tr>\n",
       "      <td>0</td>\n",
       "      <td>M4E</td>\n",
       "      <td>East Toronto</td>\n",
       "      <td>The Beaches</td>\n",
       "      <td>43.676357</td>\n",
       "      <td>-79.293031</td>\n",
       "    </tr>\n",
       "    <tr>\n",
       "      <td>1</td>\n",
       "      <td>M4K</td>\n",
       "      <td>East Toronto</td>\n",
       "      <td>The Danforth West / Riverdale</td>\n",
       "      <td>43.679557</td>\n",
       "      <td>-79.352188</td>\n",
       "    </tr>\n",
       "    <tr>\n",
       "      <td>2</td>\n",
       "      <td>M4L</td>\n",
       "      <td>East Toronto</td>\n",
       "      <td>India Bazaar / The Beaches West</td>\n",
       "      <td>43.668999</td>\n",
       "      <td>-79.315572</td>\n",
       "    </tr>\n",
       "    <tr>\n",
       "      <td>3</td>\n",
       "      <td>M4M</td>\n",
       "      <td>East Toronto</td>\n",
       "      <td>Studio District</td>\n",
       "      <td>43.659526</td>\n",
       "      <td>-79.340923</td>\n",
       "    </tr>\n",
       "    <tr>\n",
       "      <td>4</td>\n",
       "      <td>M4N</td>\n",
       "      <td>Central Toronto</td>\n",
       "      <td>Lawrence Park</td>\n",
       "      <td>43.728020</td>\n",
       "      <td>-79.388790</td>\n",
       "    </tr>\n",
       "  </tbody>\n",
       "</table>\n",
       "</div>"
      ],
      "text/plain": [
       "  Postal Code          Borough                     Neighborhood   Latitude  \\\n",
       "0         M4E     East Toronto                      The Beaches  43.676357   \n",
       "1         M4K     East Toronto    The Danforth West / Riverdale  43.679557   \n",
       "2         M4L     East Toronto  India Bazaar / The Beaches West  43.668999   \n",
       "3         M4M     East Toronto                  Studio District  43.659526   \n",
       "4         M4N  Central Toronto                    Lawrence Park  43.728020   \n",
       "\n",
       "   Longitude  \n",
       "0 -79.293031  \n",
       "1 -79.352188  \n",
       "2 -79.315572  \n",
       "3 -79.340923  \n",
       "4 -79.388790  "
      ]
     },
     "execution_count": 14,
     "metadata": {},
     "output_type": "execute_result"
    }
   ],
   "source": [
    "toronto_data = toronto_df[toronto_df['Borough'].str.contains('Toronto')].reset_index(drop=True)\n",
    "toronto_data.head()"
   ]
  },
  {
   "cell_type": "code",
   "execution_count": null,
   "metadata": {},
   "outputs": [],
   "source": []
  }
 ],
 "metadata": {
  "kernelspec": {
   "display_name": "Python 3",
   "language": "python",
   "name": "python3"
  },
  "language_info": {
   "codemirror_mode": {
    "name": "ipython",
    "version": 3
   },
   "file_extension": ".py",
   "mimetype": "text/x-python",
   "name": "python",
   "nbconvert_exporter": "python",
   "pygments_lexer": "ipython3",
   "version": "3.7.4"
  }
 },
 "nbformat": 4,
 "nbformat_minor": 2
}
